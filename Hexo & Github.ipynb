{
 "cells": [
  {
   "cell_type": "markdown",
   "id": "0b2e80c9",
   "metadata": {},
   "source": [
    "<font color=green>\n",
    "第一步，安装Git和NodeJs"
   ]
  },
  {
   "cell_type": "markdown",
   "id": "ed5e8517",
   "metadata": {},
   "source": [
    "<font color=green>\n",
    "第二步，准备好之后安装Hexo,在命令行执行如下命令："
   ]
  },
  {
   "cell_type": "code",
   "execution_count": null,
   "id": "c86234da",
   "metadata": {},
   "outputs": [],
   "source": [
    "npm install -g hexo-cli"
   ]
  },
  {
   "cell_type": "markdown",
   "id": "4c115bcd",
   "metadata": {},
   "source": [
    "将所有的准备安装完毕之后，新建一个文件夹，打开“Git Bash”,再执行以下命令"
   ]
  },
  {
   "cell_type": "code",
   "execution_count": null,
   "id": "67534718",
   "metadata": {},
   "outputs": [],
   "source": [
    "hexo init myblog\n",
    "cd myblog\n",
    "npm install"
   ]
  },
  {
   "cell_type": "markdown",
   "id": "978653ba",
   "metadata": {},
   "source": [
    "第三步，运行 \"hexo s\",点击生成的网站。\n",
    "在官网下载喜欢的主题 https://hexo.io/themes/, 点击主题后下载，解压缩至myblog-themes,复制主题名称，在_config.yml文件中修改主题的名称（粘贴）,操作过后在“Git Bash”执行hexo g命令，然后hexo s,就可以在Hexo网页中预览修改主题后的效果。"
   ]
  },
  {
   "cell_type": "markdown",
   "id": "ab5fef9f",
   "metadata": {},
   "source": [
    "第四步，修改主题配置。\n",
    "在themes/_config.yml文件和跟目录的_config.yml文件中修改网站标题，副标题等一系列相关内容。\n",
    "修改完之后执行hexo g命令，然后hexo s，网页主题就会随之变化。"
   ]
  },
  {
   "cell_type": "markdown",
   "id": "e5731ce8",
   "metadata": {},
   "source": [
    "第五步，将博客部署在GitHub上。\n",
    ">在GitHub上建立一个新的仓库，仓库名可设：用户名.github.io\\\n",
    ">配置SSH key\\\n",
    ">将本地和GitHub连接起来\\\n",
    "1.在根目录下的_config.yml文件下拉至末尾，填写\n",
    "type: 'git'\n",
    "  repository:git@github.com:wjw-hub/wjw.github.io.git （GitHub仓库的网址复制）\n",
    "  branch:master\\\n",
    "2.安装插件hexo-deployer-git,打开Git Bash,输入以下指令\n",
    "npm install hexo-deployer-git --save\\\n",
    "3.执行代码\n",
    "hexo g #先生成\n",
    "hexo d #部署至GitHub上\n",
    "\n",
    "浏览器输入\"用户名.github.io\"就可以访问了\n",
    "在GitHub上也上传好了主题的配置，在Settings找到Pages,会生成一个网址，点击即可得到我们的博客页面\n"
   ]
  },
  {
   "cell_type": "markdown",
   "id": "fe6ceaf3",
   "metadata": {},
   "source": [
    "第六步，写文章并上传。\\\n",
    "1.可直接上传已有文件\\\n",
    "2.可在根目录下输入命令“hexo new '文章标题'”，在sourse/post下可找到该文件“文章标题.md”，进行编写  #markdown语法编写\\\n",
    ">之后依次输入以下命令：\n",
    "hexo g #生成文件\n",
    "hexo s #本地服务器查看网站\n",
    "hexo d #部署到GitHub上"
   ]
  }
 ],
 "metadata": {
  "kernelspec": {
   "display_name": "Python 3 (ipykernel)",
   "language": "python",
   "name": "python3"
  },
  "language_info": {
   "codemirror_mode": {
    "name": "ipython",
    "version": 3
   },
   "file_extension": ".py",
   "mimetype": "text/x-python",
   "name": "python",
   "nbconvert_exporter": "python",
   "pygments_lexer": "ipython3",
   "version": "3.9.13"
  }
 },
 "nbformat": 4,
 "nbformat_minor": 5
}
